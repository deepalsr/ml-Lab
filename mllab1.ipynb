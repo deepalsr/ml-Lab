{
  "nbformat": 4,
  "nbformat_minor": 0,
  "metadata": {
    "colab": {
      "provenance": [],
      "gpuType": "T4",
      "toc_visible": true,
      "authorship_tag": "ABX9TyPbtiMDfSaXcw69GP7WPzqJ",
      "include_colab_link": true
    },
    "kernelspec": {
      "name": "python3",
      "display_name": "Python 3"
    },
    "language_info": {
      "name": "python"
    }
  },
  "cells": [
    {
      "cell_type": "markdown",
      "metadata": {
        "id": "view-in-github",
        "colab_type": "text"
      },
      "source": [
        "<a href=\"https://colab.research.google.com/github/deepalsr/ml-Lab/blob/Lab1/mllab1.ipynb\" target=\"_parent\"><img src=\"https://colab.research.google.com/assets/colab-badge.svg\" alt=\"Open In Colab\"/></a>"
      ]
    },
    {
      "cell_type": "markdown",
      "source": [
        "#Introduction to Python Programming for Machine Learning"
      ],
      "metadata": {
        "id": "YpGzvYvL9UTT"
      }
    },
    {
      "cell_type": "code",
      "source": [
        "print(\"Hello\")"
      ],
      "metadata": {
        "colab": {
          "base_uri": "https://localhost:8080/"
        },
        "id": "8zmY4TKrBVth",
        "outputId": "5ba1fb67-0cda-429a-ab02-d28852c4bd42"
      },
      "execution_count": null,
      "outputs": [
        {
          "output_type": "stream",
          "name": "stdout",
          "text": [
            "Hello\n"
          ]
        }
      ]
    },
    {
      "cell_type": "markdown",
      "source": [
        "Mutable data types\n"
      ],
      "metadata": {
        "id": "2hAw_y7rEjPb"
      }
    },
    {
      "cell_type": "code",
      "source": [
        "my_list = [1, 2, 3]\n",
        "print(my_list)\n",
        "\n",
        "my_list.append(4)\n",
        "print(my_list) # The original list is modified"
      ],
      "metadata": {
        "colab": {
          "base_uri": "https://localhost:8080/"
        },
        "id": "O0BSI9XqErqt",
        "outputId": "b17a3796-2500-4f7f-a047-d012263d12a6"
      },
      "execution_count": null,
      "outputs": [
        {
          "output_type": "stream",
          "name": "stdout",
          "text": [
            "[1, 2, 3]\n",
            "[1, 2, 3, 4]\n"
          ]
        }
      ]
    },
    {
      "cell_type": "markdown",
      "source": [
        "Immutable data types\n"
      ],
      "metadata": {
        "id": "Yy8TguWxEvZI"
      }
    },
    {
      "cell_type": "code",
      "source": [
        "my_string = \"hello\"\n",
        "print(my_string)\n",
        "\n",
        "new_string = my_string + \" world\"\n",
        "print(my_string)   # The original string remains unchanged\n",
        "print(new_string)  # A new string object is created"
      ],
      "metadata": {
        "colab": {
          "base_uri": "https://localhost:8080/"
        },
        "id": "BXb_DFsVEzIZ",
        "outputId": "d38ce9d9-3ea1-476e-9a6f-a51fd9c6ae04"
      },
      "execution_count": null,
      "outputs": [
        {
          "output_type": "stream",
          "name": "stdout",
          "text": [
            "hello\n",
            "hello\n",
            "hello world\n"
          ]
        }
      ]
    },
    {
      "cell_type": "markdown",
      "source": [
        "#List Comprehension\n",
        "Syntax: [expression for item in iterable if condition]\n"
      ],
      "metadata": {
        "id": "LkZiwSWTE4mH"
      }
    },
    {
      "cell_type": "code",
      "source": [
        "# Create a list of squares of even numbers from 0 to 9\n",
        "squares_of_evens = [x**2 for x in range(10) if x % 2 == 0]\n",
        "print(squares_of_evens)"
      ],
      "metadata": {
        "colab": {
          "base_uri": "https://localhost:8080/"
        },
        "id": "-UyCJFntFIW2",
        "outputId": "4cea9cf8-b06f-4468-edd6-c6f9444b4b3c"
      },
      "execution_count": null,
      "outputs": [
        {
          "output_type": "stream",
          "name": "stdout",
          "text": [
            "[0, 4, 16, 36, 64]\n"
          ]
        }
      ]
    },
    {
      "cell_type": "markdown",
      "source": [
        "#Dictionary Comrehension\n",
        "Syntax: {key_expression: value_expression for item in iterable if condition}"
      ],
      "metadata": {
        "id": "KQkB9OsbFQir"
      }
    },
    {
      "cell_type": "code",
      "source": [
        "# Create a dictionary mapping numbers to their squares\n",
        "numbers = [1, 2, 3, 4, 5]\n",
        "squares_dict = {num: num**2 for num in numbers}\n",
        "print(squares_dict)"
      ],
      "metadata": {
        "colab": {
          "base_uri": "https://localhost:8080/"
        },
        "id": "xrbVzX37FeIp",
        "outputId": "3bf38ad9-cbf1-433f-a7c9-2cd3240e7254"
      },
      "execution_count": null,
      "outputs": [
        {
          "output_type": "stream",
          "name": "stdout",
          "text": [
            "{1: 1, 2: 4, 3: 9, 4: 16, 5: 25}\n"
          ]
        }
      ]
    },
    {
      "cell_type": "markdown",
      "source": [
        "#Lambda Function\n",
        "A small function used when def is an overkill"
      ],
      "metadata": {
        "id": "So9_C9L3I1Hs"
      }
    },
    {
      "cell_type": "code",
      "source": [
        "add_lambda = lambda x, y: x + y\n",
        "\n",
        "result = add_lambda(3, 5)\n",
        "print(result)"
      ],
      "metadata": {
        "colab": {
          "base_uri": "https://localhost:8080/"
        },
        "id": "4RhK--8hI8N_",
        "outputId": "22ffedc6-7d96-410f-c7d5-1b7000bf3ae3"
      },
      "execution_count": null,
      "outputs": [
        {
          "output_type": "stream",
          "name": "stdout",
          "text": [
            "8\n"
          ]
        }
      ]
    },
    {
      "cell_type": "code",
      "source": [
        "div_lamda = lambda x,y :x/y\n",
        "\n",
        "result= div_lamda(10,5)\n",
        "print(result)\n"
      ],
      "metadata": {
        "colab": {
          "base_uri": "https://localhost:8080/"
        },
        "id": "JS7mpDApI-Va",
        "outputId": "88f69a16-d691-44d9-8f32-94328bb77a2e"
      },
      "execution_count": null,
      "outputs": [
        {
          "output_type": "stream",
          "name": "stdout",
          "text": [
            "2.0\n"
          ]
        }
      ]
    },
    {
      "cell_type": "markdown",
      "source": [
        "#Decorators\n"
      ],
      "metadata": {
        "id": "fC2QQKiZJZWZ"
      }
    },
    {
      "cell_type": "code",
      "source": [
        "def my_decorator(func):\n",
        "    def wrapper(*args, **kwargs):\n",
        "        # Do something before the function\n",
        "        print(\"Something is happening before the function is called.\")\n",
        "\n",
        "        # Call the original function\n",
        "        result = func(*args, **kwargs)\n",
        "\n",
        "        # Do something after the function\n",
        "        print(\"Something is happening after the function is called.\")\n",
        "\n",
        "        return result\n",
        "    return wrapper\n",
        "\n",
        "@my_decorator\n",
        "def say_hello():\n",
        "    print(\"Hello!\")\n",
        "\n",
        "say_hello()"
      ],
      "metadata": {
        "colab": {
          "base_uri": "https://localhost:8080/"
        },
        "id": "r9zHThRnJ_Xs",
        "outputId": "f2c098d8-179c-4683-df22-e0331f3b8548"
      },
      "execution_count": null,
      "outputs": [
        {
          "output_type": "stream",
          "name": "stdout",
          "text": [
            "Something is happening before the function is called.\n",
            "Hello!\n",
            "Something is happening after the function is called.\n"
          ]
        }
      ]
    },
    {
      "cell_type": "markdown",
      "source": [
        "#Generators\n"
      ],
      "metadata": {
        "id": "5-0PEagAKHtj"
      }
    },
    {
      "cell_type": "code",
      "source": [
        "def my_generator():\n",
        "    yield 98\n",
        "    yield 2\n",
        "    yield 3\n",
        "\n",
        "# Using the generator\n",
        "gen = my_generator()\n",
        "\n",
        "print(next(gen))\n",
        "print(next(gen))\n",
        "print(next(gen))"
      ],
      "metadata": {
        "id": "wt-yrLi3-qRg",
        "colab": {
          "base_uri": "https://localhost:8080/"
        },
        "outputId": "b0eb8396-06b2-4add-98f0-27c287c0bc5d"
      },
      "execution_count": null,
      "outputs": [
        {
          "output_type": "stream",
          "name": "stdout",
          "text": [
            "98\n",
            "2\n",
            "3\n"
          ]
        }
      ]
    },
    {
      "cell_type": "markdown",
      "source": [
        "#Iterators"
      ],
      "metadata": {
        "id": "ZfuOG4e6_nd8"
      }
    },
    {
      "cell_type": "code",
      "source": [
        "my_list = [1, 2, 3, 4]\n",
        "my_iterator = iter(my_list) # Get an iterator from an iterable\n",
        "\n",
        "print(next(my_iterator)) # Get the first element\n",
        "print(next(my_iterator)) # Get the second element\n",
        "print(next(my_iterator)) # Get the third element\n",
        "print(next(my_iterator)) # Get the fourth element\n",
        "\n",
        "# The next call to next(my_iterator) would raise StopIteration"
      ],
      "metadata": {
        "colab": {
          "base_uri": "https://localhost:8080/"
        },
        "id": "8MBa-meN_wfF",
        "outputId": "735fb315-636f-4649-995c-272980c5e34d"
      },
      "execution_count": null,
      "outputs": [
        {
          "output_type": "stream",
          "name": "stdout",
          "text": [
            "1\n",
            "2\n",
            "3\n",
            "4\n"
          ]
        }
      ]
    },
    {
      "cell_type": "markdown",
      "source": [
        "#Map, Filter, Reduce"
      ],
      "metadata": {
        "id": "S5VkLV7MBIbM"
      }
    },
    {
      "cell_type": "code",
      "source": [
        "numbers = [1, 2, 3, 4]\n",
        "squared_numbers = list(map(lambda x: x**2, numbers))\n",
        "print(squared_numbers)"
      ],
      "metadata": {
        "colab": {
          "base_uri": "https://localhost:8080/"
        },
        "id": "LlfTvgPgBOet",
        "outputId": "9775697a-14a9-45ba-fb26-a04d2a11092c"
      },
      "execution_count": null,
      "outputs": [
        {
          "output_type": "stream",
          "name": "stdout",
          "text": [
            "[1, 4, 9, 16]\n"
          ]
        }
      ]
    },
    {
      "cell_type": "code",
      "source": [
        "numbers = [1, 2, 3, 4, 5, 6]\n",
        "even_numbers = list(filter(lambda x: x % 2 == 0, numbers))\n",
        "print(even_numbers)"
      ],
      "metadata": {
        "colab": {
          "base_uri": "https://localhost:8080/"
        },
        "id": "wH0DAN-wCX9o",
        "outputId": "cff998e2-8933-4e40-b593-247761ee9260"
      },
      "execution_count": null,
      "outputs": [
        {
          "output_type": "stream",
          "name": "stdout",
          "text": [
            "[2, 4, 6]\n"
          ]
        }
      ]
    },
    {
      "cell_type": "code",
      "source": [
        "from functools import reduce\n",
        "\n",
        "numbers = [1, 2, 3, 4]\n",
        "sum_of_numbers = reduce(lambda x, y: x + y, numbers)\n",
        "print(sum_of_numbers)"
      ],
      "metadata": {
        "colab": {
          "base_uri": "https://localhost:8080/"
        },
        "id": "20yxA4SjClkC",
        "outputId": "9eb14274-6314-4946-f36a-6af5fa16a42e"
      },
      "execution_count": null,
      "outputs": [
        {
          "output_type": "stream",
          "name": "stdout",
          "text": [
            "10\n"
          ]
        }
      ]
    },
    {
      "cell_type": "markdown",
      "source": [
        "#*args and *kwargs"
      ],
      "metadata": {
        "id": "hmOzEb_uC6T2"
      }
    },
    {
      "cell_type": "code",
      "source": [
        "def my_function(*args):\n",
        " for arg in args:\n",
        "   print(arg)\n",
        "\n",
        "my_function(1, 2, 3, \"hello\")"
      ],
      "metadata": {
        "colab": {
          "base_uri": "https://localhost:8080/"
        },
        "id": "sZBxrRbAEE2X",
        "outputId": "245e7b77-dcb7-49e4-be9c-5797aa76e953"
      },
      "execution_count": null,
      "outputs": [
        {
          "output_type": "stream",
          "name": "stdout",
          "text": [
            "1\n",
            "2\n",
            "3\n",
            "hello\n"
          ]
        }
      ]
    },
    {
      "cell_type": "code",
      "source": [
        "def my_function(*args, **kwargs):\n",
        "          print(\"Positional arguments:\")\n",
        "          for arg in args:\n",
        "            print(arg)\n",
        "\n",
        "          print(\"\\nKeyword arguments:\")\n",
        "          for key, value in kwargs.items():\n",
        "            print(f\"{key}: {value}\")\n",
        "\n",
        "my_function(1, 2, a=3, b=4)"
      ],
      "metadata": {
        "colab": {
          "base_uri": "https://localhost:8080/"
        },
        "id": "6WcLGxdBDCE8",
        "outputId": "cf5b82a0-3f96-4e0f-8fd6-1d299e989387"
      },
      "execution_count": null,
      "outputs": [
        {
          "output_type": "stream",
          "name": "stdout",
          "text": [
            "Positional arguments:\n",
            "1\n",
            "2\n",
            "\n",
            "Keyword arguments:\n",
            "a: 3\n",
            "b: 4\n"
          ]
        }
      ]
    },
    {
      "cell_type": "markdown",
      "source": [
        "#Class and Object in python\n"
      ],
      "metadata": {
        "id": "qXWREl-_NbCa"
      }
    },
    {
      "cell_type": "code",
      "source": [
        "#creating class\n",
        "class Student:\n",
        "  name=\"Dipal Kumar Shrestha\""
      ],
      "metadata": {
        "id": "xq8ZRT4CNeLC"
      },
      "execution_count": null,
      "outputs": []
    },
    {
      "cell_type": "code",
      "source": [
        "#creating object\n",
        "s1 = Student()\n",
        "print(s1.name)"
      ],
      "metadata": {
        "colab": {
          "base_uri": "https://localhost:8080/"
        },
        "id": "LFltsvHFNnyO",
        "outputId": "c8538129-440b-48a7-c8ed-6ca7dea1ba47"
      },
      "execution_count": null,
      "outputs": [
        {
          "output_type": "stream",
          "name": "stdout",
          "text": [
            "Dipal Kumar Shrestha\n"
          ]
        }
      ]
    },
    {
      "cell_type": "code",
      "source": [
        "class Car:\n",
        "  color = \"blue\"\n",
        "car1 = Car()\n",
        "print(car1.color)"
      ],
      "metadata": {
        "colab": {
          "base_uri": "https://localhost:8080/"
        },
        "id": "sdiCTy-GNt8T",
        "outputId": "5c7a836f-f0b0-4cda-ab7e-30d9173b5752"
      },
      "execution_count": null,
      "outputs": [
        {
          "output_type": "stream",
          "name": "stdout",
          "text": [
            "blue\n"
          ]
        }
      ]
    },
    {
      "cell_type": "markdown",
      "source": [
        "__init__ Function"
      ],
      "metadata": {
        "id": "w5FFBs5JOLCz"
      }
    },
    {
      "cell_type": "code",
      "source": [
        "class Student:\n",
        "  def __init__(self) -> None:\n",
        "     pass\n",
        "  #parameterized constructor\n",
        "  def __init__(self, fullname, marks):\n",
        "    self.fullname = fullname\n",
        "    self.marks = marks\n",
        "\n",
        "\n",
        "  #creating method\n",
        "  def hello(self):\n",
        "    print(\"Hello,\", self.fullname)\n",
        "\n",
        "s1 = Student(\"Dipal Kumar Shrestha\", 97)\n",
        "print(s1.fullname, s1.marks)\n",
        "s1.hello()\n",
        "s2 =Student(\"John Doe\", 87)\n",
        "print(s2.fullname, s2.marks)\n"
      ],
      "metadata": {
        "colab": {
          "base_uri": "https://localhost:8080/"
        },
        "id": "MdsqvmYIONY5",
        "outputId": "86e1cd5d-c243-44b4-d9be-e9901aa877f7"
      },
      "execution_count": null,
      "outputs": [
        {
          "output_type": "stream",
          "name": "stdout",
          "text": [
            "Dipal Kumar Shrestha 97\n",
            "Hello, Dipal Kumar Shrestha\n",
            "John Doe 87\n"
          ]
        }
      ]
    },
    {
      "cell_type": "code",
      "source": [
        "class Student:\n",
        "  def __init__(self, name, marks):\n",
        "    self.name = name\n",
        "    self.marks = marks\n",
        "\n",
        "  def get_avg(self):\n",
        "    sum =0\n",
        "    for val in self.marks:\n",
        "      sum+= val\n",
        "    print(\"Hi\", self.name,\"Your average marks is\",sum/3)\n",
        "\n",
        "s1 = Student(\"Dipal Kumar Shrestha\", [97,98,99])\n",
        "s1.get_avg()"
      ],
      "metadata": {
        "colab": {
          "base_uri": "https://localhost:8080/"
        },
        "id": "UBzkjEvNWLAf",
        "outputId": "dabd98c7-319b-4091-9132-1c4b4b7cb5c6"
      },
      "execution_count": null,
      "outputs": [
        {
          "output_type": "stream",
          "name": "stdout",
          "text": [
            "Hi Dipal Kumar Shrestha Your average marks is 98.0\n"
          ]
        }
      ]
    },
    {
      "cell_type": "markdown",
      "source": [
        "Static Mathod"
      ],
      "metadata": {
        "id": "yMACLyRpZWGa"
      }
    },
    {
      "cell_type": "code",
      "source": [
        "class Student:\n",
        "  @staticmethod\n",
        "  def hello():\n",
        "    print(\"Hello, static method called!\")\n",
        "\n",
        "Student.hello()"
      ],
      "metadata": {
        "colab": {
          "base_uri": "https://localhost:8080/"
        },
        "id": "2IJw9bRiZYUL",
        "outputId": "a6b5103e-9e19-4039-9582-9bc662559bf6"
      },
      "execution_count": null,
      "outputs": [
        {
          "output_type": "stream",
          "name": "stdout",
          "text": [
            "Hello, static method called!\n"
          ]
        }
      ]
    },
    {
      "cell_type": "code",
      "source": [
        "class Account:\n",
        "  def __init__(self, balance, account_no):\n",
        "    self.balance = balance\n",
        "    self.account_no = account_no\n",
        "\n",
        "  def debit(self,amount):\n",
        "    self.balance -= amount\n",
        "\n",
        "  def credit(self,amount):\n",
        "    self.balance += amount\n",
        "\n",
        "  def get_balance(self):\n",
        "    print(self.balance)\n",
        "\n",
        "a1 =  Account(1000, 123456789)\n",
        "a1.debit(500)\n",
        "a1.get_balance()\n",
        "a1.credit(300)\n",
        "a1.get_balance()\n"
      ],
      "metadata": {
        "colab": {
          "base_uri": "https://localhost:8080/"
        },
        "id": "gIWqmBpEZ8CC",
        "outputId": "f5d522b5-1831-4bff-8806-5f3aa418c882"
      },
      "execution_count": null,
      "outputs": [
        {
          "output_type": "stream",
          "name": "stdout",
          "text": [
            "500\n",
            "800\n"
          ]
        }
      ]
    },
    {
      "cell_type": "code",
      "source": [
        "from google.colab import drive\n",
        "drive.mount('/content/drive')"
      ],
      "metadata": {
        "id": "h8Jt8egMkgc-"
      },
      "execution_count": null,
      "outputs": []
    }
  ]
}